{
 "cells": [
  {
   "cell_type": "code",
   "execution_count": 12,
   "id": "9b5d0862-9b80-480c-a448-e4ab804f7b23",
   "metadata": {
    "tags": []
   },
   "outputs": [],
   "source": [
    "from joblib import load\n",
    "import ipywidgets as widgets\n",
    "import os"
   ]
  },
  {
   "cell_type": "code",
   "execution_count": 13,
   "id": "9761ad51-d575-4db3-a8e7-64c03e56a241",
   "metadata": {
    "tags": []
   },
   "outputs": [],
   "source": [
    "model = load(os.path.join('data', 'sales-model-small.joblib'))\n",
    "scaler = load(os.path.join('data', 'sales-scaler-small.joblib'))"
   ]
  },
  {
   "cell_type": "code",
   "execution_count": 41,
   "id": "ee18c19a-c9bb-4587-86a9-42ebf4d00749",
   "metadata": {},
   "outputs": [],
   "source": [
    "cat_data = pd.read_csv(os.path.join('data', 'cat-data-info.csv'))\n",
    "column_order = pd.read_csv(os.path.join('data', 'column-order-small.txt'), header=None).values[0]"
   ]
  },
  {
   "cell_type": "code",
   "execution_count": 19,
   "id": "229e32ae-0914-4619-852a-7e50e0719f98",
   "metadata": {
    "tags": []
   },
   "outputs": [
    {
     "data": {
      "text/html": [
       "<div>\n",
       "<style scoped>\n",
       "    .dataframe tbody tr th:only-of-type {\n",
       "        vertical-align: middle;\n",
       "    }\n",
       "\n",
       "    .dataframe tbody tr th {\n",
       "        vertical-align: top;\n",
       "    }\n",
       "\n",
       "    .dataframe thead th {\n",
       "        text-align: right;\n",
       "    }\n",
       "</style>\n",
       "<table border=\"1\" class=\"dataframe\">\n",
       "  <thead>\n",
       "    <tr style=\"text-align: right;\">\n",
       "      <th></th>\n",
       "      <th>category</th>\n",
       "      <th>name</th>\n",
       "      <th>column</th>\n",
       "    </tr>\n",
       "  </thead>\n",
       "  <tbody>\n",
       "    <tr>\n",
       "      <th>0</th>\n",
       "      <td>Blmngtn</td>\n",
       "      <td>Bloomington Heights</td>\n",
       "      <td>Neighborhood</td>\n",
       "    </tr>\n",
       "    <tr>\n",
       "      <th>1</th>\n",
       "      <td>Blueste</td>\n",
       "      <td>Bluestem</td>\n",
       "      <td>Neighborhood</td>\n",
       "    </tr>\n",
       "    <tr>\n",
       "      <th>2</th>\n",
       "      <td>BrDale</td>\n",
       "      <td>Briardale</td>\n",
       "      <td>Neighborhood</td>\n",
       "    </tr>\n",
       "    <tr>\n",
       "      <th>3</th>\n",
       "      <td>BrkSide</td>\n",
       "      <td>Brookside</td>\n",
       "      <td>Neighborhood</td>\n",
       "    </tr>\n",
       "    <tr>\n",
       "      <th>4</th>\n",
       "      <td>ClearCr</td>\n",
       "      <td>Clear Creek</td>\n",
       "      <td>Neighborhood</td>\n",
       "    </tr>\n",
       "    <tr>\n",
       "      <th>...</th>\n",
       "      <td>...</td>\n",
       "      <td>...</td>\n",
       "      <td>...</td>\n",
       "    </tr>\n",
       "    <tr>\n",
       "      <th>73</th>\n",
       "      <td>2Story</td>\n",
       "      <td>Two story</td>\n",
       "      <td>HouseStyle</td>\n",
       "    </tr>\n",
       "    <tr>\n",
       "      <th>74</th>\n",
       "      <td>2.5Fin</td>\n",
       "      <td>Two and one-half story: 2nd level finished</td>\n",
       "      <td>HouseStyle</td>\n",
       "    </tr>\n",
       "    <tr>\n",
       "      <th>75</th>\n",
       "      <td>2.5Unf</td>\n",
       "      <td>Two and one-half story: 2nd level unfinished</td>\n",
       "      <td>HouseStyle</td>\n",
       "    </tr>\n",
       "    <tr>\n",
       "      <th>76</th>\n",
       "      <td>SFoyer</td>\n",
       "      <td>Split Foyer</td>\n",
       "      <td>HouseStyle</td>\n",
       "    </tr>\n",
       "    <tr>\n",
       "      <th>77</th>\n",
       "      <td>SLvl</td>\n",
       "      <td>Split Level</td>\n",
       "      <td>HouseStyle</td>\n",
       "    </tr>\n",
       "  </tbody>\n",
       "</table>\n",
       "<p>78 rows × 3 columns</p>\n",
       "</div>"
      ],
      "text/plain": [
       "   category                                          name        column\n",
       "0   Blmngtn                           Bloomington Heights  Neighborhood\n",
       "1   Blueste                                      Bluestem  Neighborhood\n",
       "2    BrDale                                     Briardale  Neighborhood\n",
       "3   BrkSide                                     Brookside  Neighborhood\n",
       "4   ClearCr                                   Clear Creek  Neighborhood\n",
       "..      ...                                           ...           ...\n",
       "73   2Story                                     Two story    HouseStyle\n",
       "74   2.5Fin    Two and one-half story: 2nd level finished    HouseStyle\n",
       "75   2.5Unf  Two and one-half story: 2nd level unfinished    HouseStyle\n",
       "76   SFoyer                                   Split Foyer    HouseStyle\n",
       "77     SLvl                                   Split Level    HouseStyle\n",
       "\n",
       "[78 rows x 3 columns]"
      ]
     },
     "execution_count": 19,
     "metadata": {},
     "output_type": "execute_result"
    }
   ],
   "source": [
    "cat_data"
   ]
  },
  {
   "cell_type": "code",
   "execution_count": 54,
   "id": "8a0d3433-b370-42cf-b608-501be6f06e62",
   "metadata": {
    "tags": []
   },
   "outputs": [],
   "source": [
    "def func(BldgType, BsmtCond, BsmtFinType1, Fence, GarageFinish, GarageType, Heating,\n",
    "         HouseStyle, KitchenQual, Neighborhood):\n",
    "    def filter_names(val_name, value, columns, arr1, arr2):\n",
    "        for name in list(filter(lambda x: val_name in x.split('_')[0], columns)):\n",
    "            arr1.append(True if name.endswith(value) else False)\n",
    "            arr2.append(name)\n",
    "    vals = []\n",
    "    names = []\n",
    "    filter_names('Neighborhood', Neighborhood, column_order, vals, names)\n",
    "    filter_names('BsmtCond', BsmtCond, column_order, vals, names)\n",
    "    # for name in list(filter(lambda x: 'Neighborhood' in x.split('_')[0], column_order)):\n",
    "    #     vals.append(True if name.endswith(Neighborhood) else False)\n",
    "    #     names.append(name)\n",
    "    # for name in list(filter(lambda x: 'BsmtCond' in x.split('_')[0]\n",
    "    print(pd.Series(vals, index=names))"
   ]
  },
  {
   "cell_type": "code",
   "execution_count": 55,
   "id": "ab9e0a2f-659e-47a3-b9a7-e274afa156aa",
   "metadata": {
    "tags": []
   },
   "outputs": [
    {
     "data": {
      "application/vnd.jupyter.widget-view+json": {
       "model_id": "d2576fefe55d4f0b9e31fb707829ce80",
       "version_major": 2,
       "version_minor": 0
      },
      "text/plain": [
       "VBox(children=(HBox(children=(Dropdown(description='BldgType', options=(('Single-family Detached', '1Fam'), ('…"
      ]
     },
     "metadata": {},
     "output_type": "display_data"
    },
    {
     "data": {
      "application/vnd.jupyter.widget-view+json": {
       "model_id": "80cb170511744deb8839f30a5f23f6c4",
       "version_major": 2,
       "version_minor": 0
      },
      "text/plain": [
       "Output()"
      ]
     },
     "metadata": {},
     "output_type": "display_data"
    }
   ],
   "source": [
    "dropdowns = {}\n",
    "for col, data in cat_data.groupby('column'):\n",
    "    dropdowns[col] = widgets.Dropdown(options=[(x,y) for x, y in zip(data['name'], data['category'])],\n",
    "                                      value=data['category'].values[0], description=col)\n",
    "arr = []\n",
    "keys = list(dropdowns.keys())\n",
    "for i in range(0, len(keys), 3):\n",
    "    if i+3 < len(dropdowns):\n",
    "        arr.append(widgets.HBox([dropdowns[keys[x]] for x in range(i, i+3)]))\n",
    "    else:\n",
    "        arr.append(widgets.HBox([dropdowns[keys[x]] for x in range(i, len(dropdowns))]))\n",
    "dropdown = widgets.VBox(arr)\n",
    "out = widgets.interactive_output(func, dropdowns)\n",
    "display(dropdown, out)"
   ]
  },
  {
   "cell_type": "code",
   "execution_count": 36,
   "id": "8b1b6ad4-500e-49e4-aa63-c094f232b00b",
   "metadata": {
    "tags": []
   },
   "outputs": [
    {
     "data": {
      "text/plain": [
       "['BldgType',\n",
       " 'BsmtCond',\n",
       " 'BsmtFinType1',\n",
       " 'Fence',\n",
       " 'GarageFinish',\n",
       " 'GarageType',\n",
       " 'Heating',\n",
       " 'HouseStyle',\n",
       " 'KitchenQual',\n",
       " 'Neighborhood']"
      ]
     },
     "execution_count": 36,
     "metadata": {},
     "output_type": "execute_result"
    }
   ],
   "source": [
    "keys"
   ]
  },
  {
   "cell_type": "code",
   "execution_count": null,
   "id": "9b35a12a-e0a8-4a6f-af8d-98770c9c4f05",
   "metadata": {},
   "outputs": [],
   "source": []
  }
 ],
 "metadata": {
  "kernelspec": {
   "display_name": "Python 3 (ipykernel)",
   "language": "python",
   "name": "python3"
  },
  "language_info": {
   "codemirror_mode": {
    "name": "ipython",
    "version": 3
   },
   "file_extension": ".py",
   "mimetype": "text/x-python",
   "name": "python",
   "nbconvert_exporter": "python",
   "pygments_lexer": "ipython3",
   "version": "3.11.5"
  }
 },
 "nbformat": 4,
 "nbformat_minor": 5
}
