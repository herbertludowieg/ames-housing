{
 "cells": [
  {
   "cell_type": "code",
   "execution_count": 3,
   "id": "ffa30ff0-fd08-4b9c-ad9c-19cca2046789",
   "metadata": {
    "tags": []
   },
   "outputs": [],
   "source": [
    "import ipywidgets as widgets\n",
    "import numpy as np\n",
    "import os"
   ]
  },
  {
   "cell_type": "code",
   "execution_count": 4,
   "id": "cd27e78f-28ff-468f-8395-3c9b8bd7d5d7",
   "metadata": {
    "tags": []
   },
   "outputs": [],
   "source": [
    "with open(os.path.join('data', 'data_description.txt'), 'r') as fn:\n",
    "    lines = fn.readlines()\n",
    "i = 0\n",
    "keys = {}\n",
    "contents = {}\n",
    "while i < len(lines):\n",
    "    line = lines[i]\n",
    "    if ':' in line and not line.startswith('  '):\n",
    "        key, descrip = line.split(':')\n",
    "        keys[key] = descrip\n",
    "        if lines[i+2].startswith('  '):\n",
    "            i += 2\n",
    "            contents[key] = []\n",
    "            while lines[i].strip():\n",
    "                contents[key].append(lines[i].strip())\n",
    "                i += 1\n",
    "                if i >= len(lines): break\n",
    "            contents[key] = '<br>'.join(contents[key])\n",
    "        else:\n",
    "            contents[key] = 'No categories'\n",
    "    i += 1"
   ]
  },
  {
   "cell_type": "markdown",
   "id": "7b95df65-532c-457b-aece-949e3af02f28",
   "metadata": {},
   "source": [
    "### Create GUI with a tab and accordion object\n",
    "\n",
    "Using the dictionaries that I generated above I then made a set of accordion\n",
    "objects that are arranged in alphabetical order separated into tabs based on\n",
    "the first character in the key name (column name). This way if you are\n",
    "wondering what is he meaning behind a set of values in a particular column\n",
    "in the data set you can easily find it in this GUI."
   ]
  },
  {
   "cell_type": "code",
   "execution_count": 5,
   "id": "ea2ed32a-42a5-4f64-9a07-c29f15588f7e",
   "metadata": {
    "tags": []
   },
   "outputs": [
    {
     "data": {
      "application/vnd.jupyter.widget-view+json": {
       "model_id": "c0c6d581f807484d8fab5f37148abb44",
       "version_major": 2,
       "version_minor": 0
      },
      "text/plain": [
       "Tab(children=(Accordion(children=(HTML(value='No categories'),), titles=('1stFlrSF:  First Floor square feet\\n…"
      ]
     },
     "execution_count": 5,
     "metadata": {},
     "output_type": "execute_result"
    }
   ],
   "source": [
    "start = [key[0] for key in keys.keys()]\n",
    "tab = widgets.Tab()\n",
    "tab.children = [widgets.Accordion(children=[widgets.HTML(contents[key]) for key in sorted(keys.keys()) if key[0] == s],\n",
    "                                  titles=tuple(['{}: {}'.format(key, keys[key]) for key in sorted(keys.keys()) if key[0] == s]))\n",
    "                for s in np.unique(start)]\n",
    "tab.titles = tuple(np.unique(start))\n",
    "tab"
   ]
  },
  {
   "cell_type": "code",
   "execution_count": null,
   "id": "a5d16b22-287e-4320-91b7-a2a10d670b0f",
   "metadata": {},
   "outputs": [],
   "source": []
  }
 ],
 "metadata": {
  "kernelspec": {
   "display_name": "Python 3 (ipykernel)",
   "language": "python",
   "name": "python3"
  },
  "language_info": {
   "codemirror_mode": {
    "name": "ipython",
    "version": 3
   },
   "file_extension": ".py",
   "mimetype": "text/x-python",
   "name": "python",
   "nbconvert_exporter": "python",
   "pygments_lexer": "ipython3",
   "version": "3.11.5"
  }
 },
 "nbformat": 4,
 "nbformat_minor": 5
}
